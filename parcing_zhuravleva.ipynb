{
 "cells": [
  {
   "cell_type": "markdown",
   "metadata": {
    "colab_type": "text",
    "id": "view-in-github"
   },
   "source": [
    "<a href=\"https://colab.research.google.com/github/sofiazhuravleva/CL_HSE/blob/main/%D0%94%D0%BE%D0%BC%D0%B0%D1%88%D0%BD%D0%B5%D0%B5_%D0%B7%D0%B0%D0%B4%D0%B0%D0%BD%D0%B8%D0%B5_4.ipynb\" target=\"_parent\"><img src=\"https://colab.research.google.com/assets/colab-badge.svg\" alt=\"Open In Colab\"/></a>"
   ]
  },
  {
   "cell_type": "markdown",
   "metadata": {
    "id": "nPRIiy_SDYfu"
   },
   "source": [
    "# Домашнее задание 4."
   ]
  },
  {
   "cell_type": "markdown",
   "metadata": {
    "id": "s53-SY7vDfJ5"
   },
   "source": [
    "## Часть 1. Парсинг телеграм-каналов\n",
    "\n",
    "У вас есть 2 файла на выбор в [этой папке](https://disk.yandex.ru/d/druM43Rd5bdiQg):\n",
    "- Канал Системный Блокъ\n",
    "- Канал Нерусский мир\n",
    "\n",
    "В них сохранена история каналов за 2024 год в html-формате\n",
    "\n",
    "Подготовьте таблицу, в которой будет:\n",
    "- отправитель (у нас это будет канал - но в личных чатах туда попадает никнейм отправителя, как в ДЗ_3)\n",
    "- текст сообщения (его можно немного посчистить (***по желанию***) - например, удалить из него тэги)\n",
    "- дата\n",
    "- (***по желанию***) реакции\n",
    "\n",
    "**Важно!** В Нерусском мире есть небольшие ошибки - посты без автора (можно отловить их и подумать, что с ними делать, или использовать try / except, чтобы их просто проигнорировать)"
   ]
  },
  {
   "cell_type": "markdown",
   "metadata": {
    "id": "0Sjon3P0aBtQ"
   },
   "source": [
    "Примерный результат выполнения всех заданий вы можете найти в той же [папке](https://disk.yandex.ru/d/druM43Rd5bdiQg)"
   ]
  },
  {
   "cell_type": "code",
   "execution_count": 117,
   "metadata": {
    "id": "B6Nw3wczDQVb"
   },
   "outputs": [],
   "source": [
    "import requests\n",
    "from bs4 import BeautifulSoup\n",
    "import pandas as pd\n",
    "import codecs\n",
    "import re"
   ]
  },
  {
   "cell_type": "code",
   "execution_count": 125,
   "metadata": {
    "id": "LsERUDYNDhXr"
   },
   "outputs": [
    {
     "name": "stdout",
     "output_type": "stream",
     "text": [
      "<!DOCTYPE html>\n",
      "<html lang='ru' prefix=\"og: http://ogp.me/ns#  \">\n",
      "<head>\n",
      "<title>E-mail науки: детские вопросы, на которые вы не смогли ответить</title>\n",
      "<noscript><meta name=\"viewport\" content=\"width=device-width, initial-scale=1.0\"></noscript>\n",
      "<script type='text/javascript'>if (!document.cookie.match(/\\bdesktop_mode=1/)) document.write('<meta name=\"viewport\" content=\"width=device-width, initial-scale=1.0\">');</script>\n",
      "\n",
      "\n",
      "<META name=\"description\" content=\"Научные ответы на вопросы детей. Теперь вы сможете объяснить ребенку то, чего и сами до сих пор не понимали.\"/>\n",
      "\n",
      "\n",
      "\n",
      "<link rel=\"canonical\" href=\"https://elementy.ru/email?page=1\" />\n",
      "\n",
      "\n",
      "<base href=\"//elementy.ru/\">\n",
      "\n",
      "\n",
      "\n",
      "<meta property=\"og:title\" content=\"E-mail науки: детские вопросы, на которые вы не смогли ответить\"/>\n",
      "<meta property=\"og:type\" content=\"website\"/>\n",
      "<meta property=\"og:description\" content=\"Научные ответы на вопросы детей. Теперь вы сможете объяснить ребенку то, чего и сами до сих пор не понимали.\"/>\n",
      "<meta property=\"og:url\" content=\"https://elementy.ru/email\"/>\n",
      "<meta property=\"og:image\" content=\"https://elementy.ru/images/screenshots/detskie_voprosy_2019_10_18.jpg\"/>\n",
      "\n",
      "\n",
      "\n",
      "<meta property=\"og:site_name\" content=\"«Элементы»\"/>\n",
      "<meta property=\"og:locale\" content=\"ru_RU\"/>\n",
      "\n",
      "\n",
      "<link rel=\"manifest\" href=\"/downloads/js/manifest.json?v=1.02\">\n",
      "\n",
      "\n",
      "<link rel=\"icon\" type=\"image/png\" href=\"/images/eltnewdesign/logo16bw.png\"  sizes=\"16x16\"/>\n",
      "<link rel=\"icon\" type=\"image/png\" href=\"/images/eltnewdesign/logo32bw.png\" sizes=\"32x32\" />\n",
      "<link rel=\"icon\" type=\"image/png\" href=\"/images/eltnewdesign/logo48bw.png\" sizes=\"48x48\" />\n",
      "<link rel=\"icon\" type=\"image/png\" href=\"/images/eltnewdesign/logo64bw.png\" sizes=\"64x64\" />\n",
      "<link rel=\"icon\" type=\"image/png\" href=\"/images/eltnewdesign/logo128bw.png\" sizes=\"128x128\" />\n",
      "<link rel=\"shortcut icon\" type=\"image/png\" href=\"/images/eltnewdesign/logo32bw.png\"/>\n",
      "\n",
      "<meta content='Элементы' name='apple-mobile-web-app-title'>\n",
      "\n",
      "<link rel=\"apple-touch-icon\" type=\"image/png\" href=\"/images/eltnewdesign/logo128bw.png\"/>\n",
      "<link rel=\"apple-touch-icon-precomposed\" sizes=\"57x57\" href=\"/images/eltnewdesign/logo57bw.png\" />\n",
      "<link rel=\"apple-touch-icon-precomposed\" sizes=\"114x114\" href=\"/images/eltnewdesign/logo114bw.png\" />\n",
      "<link rel=\"apple-touch-icon-precomposed\" sizes=\"72x72\" href=\"/images/eltnewdesign/logo72wb.png\" />\n",
      "<link rel=\"apple-touch-icon-precomposed\" sizes=\"120x120\" href=\"/images/eltnewdesign/logo120bw.png\" />\n",
      "\n",
      "<meta name=\"application-name\" content=\"Элементы\"/>\n",
      "<meta name=\"msapplication-TileColor\" content=\"#001034\" />\n",
      "<meta name=\"msapplication-TileImage\" content=\"/images/eltnewdesign/logo128bw.png\" />\n",
      "\n",
      "<meta name=\"yandex-tableau-widget\" content=\"logo=https://elementy.ru/images/eltnewdesign/logo128bw.png, color=#001034\" />\n",
      "<meta http-equiv=\"Content-Type\" content=\"text/html; charset=utf-8\"/>\n",
      "<link rel=\"alternate\" type=\"application/rss+xml\" title=\"RSS\" href=\"https://elementy.ru/rss\"/>\n",
      "<link rel=\"stylesheet\" type=\"text/css\" href=\"/downloads/css/style2.css?v=1.125\"/>\n",
      "\n",
      "<noscript>\n",
      "<link rel=\"\n"
     ]
    }
   ],
   "source": [
    "f = codecs.open(\"Системный Блокъ.html\", 'r', 'utf-8') # читаем код html из файла\n",
    "telegram = f.read() # записываем его в переменную\n",
    "f.close()\n",
    "\n",
    "soup = BeautifulSoup(telegram)\n",
    "soup\n",
    "print(response.text[:3000])"
   ]
  },
  {
   "cell_type": "markdown",
   "metadata": {
    "id": "TeIrDHDVYzp3"
   },
   "source": [
    "Советы: можно идти по тегам в супе, а можно использовать регулярные выражения к содержимому тега, оставлю одну из возможных подсказок (разбор тегов супом **предпочтительнее**, но задачу можно также решить любым другим способом)"
   ]
  },
  {
   "cell_type": "code",
   "execution_count": 122,
   "metadata": {
    "id": "DB8X_quaZXZK"
   },
   "outputs": [
    {
     "name": "stdout",
     "output_type": "stream",
     "text": [
      "✅ Готово! Сохранено в 'sysblok_output.csv'\n",
      "       Отправитель                                                                                                Текст                  Дата                          Реакции\n",
      "0  Системный Блокъ  Что происходит в интернете: Оксана Мороз о цифровом бессмертии и языке онлайн-скорби Дождались Д...  03.01.2024 19:58:07          ❤ 31, 🎄 5, 👍 3, 🔥 2, 👏 1\n",
      "1  Системный Блокъ  Танцы, эрос и зачатие: о чем писали «Платоновские исследования» за последние 10 лет В 2024 году ...  06.01.2024 21:02:31         👍 14, 🔥 11, ❤ 7, 🍌 1, 👾 1\n",
      "2  Системный Блокъ  Читаем секретные письма опальной королевы: историческая криптография на примере Марии Стюарт Ист...  10.01.2024 22:27:56         🔥 15, ❤ 12, 👍 8, 👾 3, 👀 1\n",
      "3  Системный Блокъ  От Эдисона до Spotify: история форматов музыки Какой была первая песня, записанная на носитель? ...  11.01.2024 19:57:30              🔥 20, 👍 16, ❤ 9, 👻 1\n",
      "4  Системный Блокъ  Больше, чем энциклопедия: Википедии 23 года! Почему Википедия — сообщество с иерархией? У кого о...  15.01.2024 21:01:54   🍾 17, ❤ 11, 👍 10, ⚡ 5, 👏 2, 👎 1\n"
     ]
    }
   ],
   "source": [
    "senders = []\n",
    "texts = []\n",
    "reactions_list = []\n",
    "date_list = []\n",
    "\n",
    "for msg in soup.find_all('div', class_='message'):\n",
    "    # Пропускаем служебные сообщения\n",
    "    if 'service' in msg.get('class', []):\n",
    "        continue\n",
    "    # 1. Отправитель\n",
    "    sender_tag = msg.find('div', class_='from_name')\n",
    "    if not sender_tag:\n",
    "            continue  # пропускаем, если нет отправителя\n",
    "\n",
    "    sender = sender_tag.get_text(strip=True)\n",
    "\n",
    "# Пропускаем, если это не \"Системный Блокъ\"\n",
    "    if sender != \"Системный Блокъ\":\n",
    "        continue\n",
    "\n",
    "    \n",
    "    # 2. Текст сообщения\n",
    "    text_tag = msg.find('div', class_='text')\n",
    "    text = text_tag.get_text(separator=' ', strip=True) if text_tag else \"\"\n",
    "    cleaned_text = re.sub(r\"(🦾|🤖)*(Системный Блокъ|@sysblock)\\s*$\", \"\", text)\n",
    "    \n",
    "    # 3. Дата\n",
    "    date_tag = msg.find('div', class_='pull_right date details')\n",
    "    date = date_tag['title'] if date_tag and date_tag.has_attr('title') else \"Неизвестно\"\n",
    "    \n",
    "    # 4. Реакции\n",
    "    reactions_block = msg.find('div', class_='reactions')\n",
    "    reactions = []\n",
    "    \n",
    "    if reactions_block:\n",
    "        for r in reactions_block.find_all('div', class_='reaction'):\n",
    "            emoji = r.find('div', class_='emoji')\n",
    "            count = r.find('div', class_='count')\n",
    "            if emoji and count:\n",
    "                reactions.append(f\"{emoji.text.strip()} {count.text.strip()}\")\n",
    "\n",
    "    reactions_str = \", \".join(reactions)\n",
    "    \n",
    "    # Добавляем данные в списки\n",
    "    senders.append(sender)\n",
    "    texts.append(text)\n",
    "    date_list.append(date)\n",
    "    reactions_list.append(reactions_str)\n",
    "\n",
    "# Создаём DataFrame\n",
    "df = pd.DataFrame({\n",
    "    \"Отправитель\": senders,\n",
    "    \"Текст\": texts,\n",
    "    \"Дата\": date_list,\n",
    "    \"Реакции\": reactions_list\n",
    "})\n",
    "# Сохраняем в CSV файл\n",
    "df.to_csv('sysblok_output.csv', index=False, encoding='utf-8-sig')\n",
    "print(\"✅ Готово! Сохранено в 'sysblok_output.csv'\")\n",
    "\n",
    "# Печатаем результат\n",
    "print(df.head())\n"
   ]
  },
  {
   "cell_type": "markdown",
   "metadata": {
    "id": "C2CnZWo6LcdH"
   },
   "source": [
    "## Часть 2\n",
    "\n",
    "Парсинг сайта, на выбор:\n",
    "- [Детские вопросы](https://elementy.ru/email) в журнале \"Элементы\" (немного легче)\n",
    "- [Рубрика \"Ускользающий мир\"](https://www.nkj.ru/special/mir/) журнала \"Наука и жизнь\""
   ]
  },
  {
   "cell_type": "markdown",
   "metadata": {
    "id": "eOYUy-4Sd_V5"
   },
   "source": [
    "Общий алгоритм:\n",
    "- смотрим на 1 и последнюю страницу и с помощью range(от, до+1) генерируем ссылки на страницы\n",
    "- проходим по каждой странице и парсим ссылки на новости (важно собрать нужные и очистить от лишних!). На момент начала задания было 88 Детских вопроса и 213 текстов Ускользающего мира (ближе к дедлайну их может стать немного больше)\n",
    "- переходим к каждой новости и парсим из нее:\n",
    "  - заголовок, автор ответа, текст, ссылку для Детских вопросов\n",
    "  - заголовок, дату, текст и ссылку для Ускользающего мира (***опционально*** - также автора, источник, тэги, но учтите, что они есть не в каждой статье)\n",
    "- сохраняем результаты в датафрейм, не забудьте озаглавить столбцы\n",
    "\n",
    "Поскольку мы парсим реальные сайты, вежливый парсинг с time и задержкой в несколько секунд будет плюсом!"
   ]
  },
  {
   "cell_type": "code",
   "execution_count": 3,
   "metadata": {},
   "outputs": [
    {
     "name": "stdout",
     "output_type": "stream",
     "text": [
      "Requirement already satisfied: requests in /Library/Frameworks/Python.framework/Versions/3.13/lib/python3.13/site-packages (2.32.3)\n",
      "Requirement already satisfied: charset-normalizer<4,>=2 in /Library/Frameworks/Python.framework/Versions/3.13/lib/python3.13/site-packages (from requests) (3.4.1)\n",
      "Requirement already satisfied: idna<4,>=2.5 in /Library/Frameworks/Python.framework/Versions/3.13/lib/python3.13/site-packages (from requests) (3.10)\n",
      "Requirement already satisfied: urllib3<3,>=1.21.1 in /Library/Frameworks/Python.framework/Versions/3.13/lib/python3.13/site-packages (from requests) (2.3.0)\n",
      "Requirement already satisfied: certifi>=2017.4.17 in /Library/Frameworks/Python.framework/Versions/3.13/lib/python3.13/site-packages (from requests) (2025.1.31)\n",
      "\n",
      "\u001b[1m[\u001b[0m\u001b[34;49mnotice\u001b[0m\u001b[1;39;49m]\u001b[0m\u001b[39;49m A new release of pip is available: \u001b[0m\u001b[31;49m25.0.1\u001b[0m\u001b[39;49m -> \u001b[0m\u001b[32;49m25.1.1\u001b[0m\n",
      "\u001b[1m[\u001b[0m\u001b[34;49mnotice\u001b[0m\u001b[1;39;49m]\u001b[0m\u001b[39;49m To update, run: \u001b[0m\u001b[32;49mpip install --upgrade pip\u001b[0m\n",
      "Note: you may need to restart the kernel to use updated packages.\n"
     ]
    }
   ],
   "source": [
    "pip install requests\n"
   ]
  },
  {
   "cell_type": "code",
   "execution_count": null,
   "metadata": {},
   "outputs": [],
   "source": []
  },
  {
   "cell_type": "code",
   "execution_count": null,
   "metadata": {},
   "outputs": [],
   "source": []
  },
  {
   "cell_type": "code",
   "execution_count": 37,
   "metadata": {},
   "outputs": [
    {
     "name": "stdout",
     "output_type": "stream",
     "text": [
      "Requirement already satisfied: tqdm in /Library/Frameworks/Python.framework/Versions/3.13/lib/python3.13/site-packages (4.67.1)\n",
      "\n",
      "\u001b[1m[\u001b[0m\u001b[34;49mnotice\u001b[0m\u001b[1;39;49m]\u001b[0m\u001b[39;49m A new release of pip is available: \u001b[0m\u001b[31;49m25.0.1\u001b[0m\u001b[39;49m -> \u001b[0m\u001b[32;49m25.1.1\u001b[0m\n",
      "\u001b[1m[\u001b[0m\u001b[34;49mnotice\u001b[0m\u001b[1;39;49m]\u001b[0m\u001b[39;49m To update, run: \u001b[0m\u001b[32;49mpip install --upgrade pip\u001b[0m\n",
      "Note: you may need to restart the kernel to use updated packages.\n"
     ]
    }
   ],
   "source": [
    "pip install tqdm\n"
   ]
  },
  {
   "cell_type": "code",
   "execution_count": 53,
   "metadata": {},
   "outputs": [
    {
     "name": "stdout",
     "output_type": "stream",
     "text": [
      "200\n",
      "<!DOCTYPE html>\n",
      "<html lang='ru' prefix=\"og: http://ogp.me/ns#  \">\n",
      "<head>\n",
      "<title>E-mail науки: детские вопросы, на которые вы не смогли ответить</title>\n",
      "<noscript><meta name=\"viewport\" content=\"width=device-width, initial-scale=1.0\"></noscript>\n",
      "<script type='text/javascript'>if (!document.cookie.match(/\\bdesktop_mode=1/)) document.write('<meta name=\"viewport\" content=\"width=device-width, initial-scale=1.0\">');</script>\n",
      "\n",
      "\n",
      "<META name=\"description\" content=\"Научные ответы на вопросы детей. Теперь вы сможете объяснить ребенку то, чего и сами до сих пор не понимали.\"/>\n",
      "\n",
      "\n",
      "\n",
      "<link rel=\"canonical\" href=\"https://elementy.ru/email?page=5\" />\n",
      "\n",
      "\n",
      "<base href=\"//elementy.ru/\">\n",
      "\n",
      "\n",
      "\n",
      "<meta property=\"og:title\" content=\"E-mail науки: детские вопросы, на которые вы не смогли ответить\"/>\n",
      "<meta property=\"og:type\" content=\"website\"/>\n",
      "<meta property=\"og:description\" content=\"Научные ответы на вопросы детей. Теперь вы сможете объяснить ребенку то, чего и сами до сих пор не понимали.\"/>\n",
      "<meta property=\"og:url\" cont\n"
     ]
    }
   ],
   "source": [
    "url = 'https://elementy.ru/email?page=5'\n",
    "response = requests.get(url)\n",
    "print(response.status_code) \n",
    "print(response.text[:1000])\n"
   ]
  },
  {
   "cell_type": "code",
   "execution_count": 54,
   "metadata": {},
   "outputs": [],
   "source": [
    "with open(\"page5.html\", \"w\", encoding=\"utf-8\") as f:\n",
    "    f.write(response.text)\n"
   ]
  },
  {
   "cell_type": "code",
   "execution_count": null,
   "metadata": {},
   "outputs": [],
   "source": []
  },
  {
   "cell_type": "code",
   "execution_count": 111,
   "metadata": {},
   "outputs": [
    {
     "name": "stdout",
     "output_type": "stream",
     "text": [
      "🔗 Получаем ссылки с https://elementy.ru/email\n",
      "  Найдено ссылок: 20\n",
      "🔗 Получаем ссылки с https://elementy.ru/email?page=1\n",
      "  Найдено ссылок: 20\n",
      "🔗 Получаем ссылки с https://elementy.ru/email?page=2\n",
      "  Найдено ссылок: 20\n",
      "🔗 Получаем ссылки с https://elementy.ru/email?page=3\n",
      "  Найдено ссылок: 20\n",
      "🔗 Получаем ссылки с https://elementy.ru/email?page=4\n",
      "  Найдено ссылок: 8\n",
      "🔗 Получаем ссылки с https://elementy.ru/email?page=5\n",
      "  Найдено ссылок: 0\n",
      "\n",
      "📌 Всего собрано ссылок: 88\n",
      "📄 Парсим новость 1/88\n",
      "📄 Парсим новость 2/88\n",
      "📄 Парсим новость 3/88\n",
      "📄 Парсим новость 4/88\n",
      "📄 Парсим новость 5/88\n",
      "📄 Парсим новость 6/88\n",
      "📄 Парсим новость 7/88\n",
      "📄 Парсим новость 8/88\n",
      "📄 Парсим новость 9/88\n",
      "📄 Парсим новость 10/88\n",
      "📄 Парсим новость 11/88\n",
      "📄 Парсим новость 12/88\n",
      "📄 Парсим новость 13/88\n",
      "📄 Парсим новость 14/88\n",
      "📄 Парсим новость 15/88\n",
      "📄 Парсим новость 16/88\n",
      "📄 Парсим новость 17/88\n",
      "📄 Парсим новость 18/88\n",
      "📄 Парсим новость 19/88\n",
      "📄 Парсим новость 20/88\n",
      "📄 Парсим новость 21/88\n",
      "📄 Парсим новость 22/88\n",
      "📄 Парсим новость 23/88\n",
      "📄 Парсим новость 24/88\n",
      "📄 Парсим новость 25/88\n",
      "📄 Парсим новость 26/88\n",
      "📄 Парсим новость 27/88\n",
      "📄 Парсим новость 28/88\n",
      "📄 Парсим новость 29/88\n",
      "📄 Парсим новость 30/88\n",
      "📄 Парсим новость 31/88\n",
      "📄 Парсим новость 32/88\n",
      "📄 Парсим новость 33/88\n",
      "📄 Парсим новость 34/88\n",
      "📄 Парсим новость 35/88\n",
      "📄 Парсим новость 36/88\n",
      "📄 Парсим новость 37/88\n",
      "📄 Парсим новость 38/88\n",
      "📄 Парсим новость 39/88\n",
      "📄 Парсим новость 40/88\n",
      "📄 Парсим новость 41/88\n",
      "📄 Парсим новость 42/88\n",
      "📄 Парсим новость 43/88\n",
      "📄 Парсим новость 44/88\n",
      "📄 Парсим новость 45/88\n",
      "📄 Парсим новость 46/88\n",
      "📄 Парсим новость 47/88\n",
      "📄 Парсим новость 48/88\n",
      "📄 Парсим новость 49/88\n",
      "📄 Парсим новость 50/88\n",
      "📄 Парсим новость 51/88\n",
      "📄 Парсим новость 52/88\n",
      "📄 Парсим новость 53/88\n",
      "📄 Парсим новость 54/88\n",
      "📄 Парсим новость 55/88\n",
      "📄 Парсим новость 56/88\n",
      "📄 Парсим новость 57/88\n",
      "📄 Парсим новость 58/88\n",
      "📄 Парсим новость 59/88\n",
      "📄 Парсим новость 60/88\n",
      "📄 Парсим новость 61/88\n",
      "📄 Парсим новость 62/88\n",
      "📄 Парсим новость 63/88\n",
      "📄 Парсим новость 64/88\n",
      "📄 Парсим новость 65/88\n",
      "📄 Парсим новость 66/88\n",
      "📄 Парсим новость 67/88\n",
      "📄 Парсим новость 68/88\n",
      "📄 Парсим новость 69/88\n",
      "📄 Парсим новость 70/88\n",
      "📄 Парсим новость 71/88\n",
      "📄 Парсим новость 72/88\n",
      "📄 Парсим новость 73/88\n",
      "📄 Парсим новость 74/88\n",
      "📄 Парсим новость 75/88\n",
      "📄 Парсим новость 76/88\n",
      "📄 Парсим новость 77/88\n",
      "📄 Парсим новость 78/88\n",
      "📄 Парсим новость 79/88\n",
      "📄 Парсим новость 80/88\n",
      "📄 Парсим новость 81/88\n",
      "📄 Парсим новость 82/88\n",
      "📄 Парсим новость 83/88\n",
      "📄 Парсим новость 84/88\n",
      "📄 Парсим новость 85/88\n",
      "📄 Парсим новость 86/88\n",
      "📄 Парсим новость 87/88\n",
      "📄 Парсим новость 88/88\n",
      "\n",
      "✅ Готово! Сохранено в файл: детские_вопросы3.csv\n"
     ]
    }
   ],
   "source": [
    "import requests\n",
    "from bs4 import BeautifulSoup\n",
    "import csv\n",
    "import time\n",
    "import re\n",
    "headers = {\n",
    "    'User-Agent': 'Mozilla/5.0 (Windows NT 10.0; Win64; x64) AppleWebKit/537.36 (KHTML, like Gecko) Chrome/123.0.0.0 Safari/537.36',\n",
    "    'Referer': 'https://elementy.ru/',\n",
    "    'Accept-Language': 'ru-RU,ru;q=0.9,en-US;q=0.8,en;q=0.7'\n",
    "}\n",
    "# Сбор всех ссылок на вопросы\n",
    "def collect_all_question_links():\n",
    "    all_links = set()\n",
    "    page = 0\n",
    "    while True:\n",
    "        url = 'https://elementy.ru/email' if page == 0 else f'https://elementy.ru/email?page={page}'\n",
    "        print(f'🔗 Получаем ссылки с {url}')\n",
    "        response = requests.get(url, headers=headers)\n",
    "        soup = BeautifulSoup(response.text, 'html.parser')\n",
    "        links = {\n",
    "            'https://elementy.ru' + a.get('href')\n",
    "            for a in soup.find_all('a', class_='nohover')\n",
    "            if a.get('href', '').startswith('/email/')\n",
    "        }\n",
    "        print(f'  Найдено ссылок: {len(links)}')\n",
    "        if not links:\n",
    "            break\n",
    "        all_links.update(links)\n",
    "        page += 1\n",
    "        time.sleep(1.5)\n",
    "    print(f'\\n📌 Всего собрано ссылок: {len(all_links)}')\n",
    "    return list(all_links)\n",
    "\n",
    "# Парсинг отдельной страницы\n",
    "def parse_question(url):\n",
    "    try:\n",
    "        response = requests.get(url, headers=headers, timeout=10)\n",
    "        soup = BeautifulSoup(response.text, 'html.parser')\n",
    "\n",
    "        # Заголовок\n",
    "        title_tag = soup.find(\"h1\", itemprop=\"name\")\n",
    "        title = title_tag.get_text(strip=True) if title_tag else \"—\"\n",
    "\n",
    "        # Автор — три варианта\n",
    "        author = \"—\"\n",
    "\n",
    "        # Вариант 1: обычный автор из sublink\n",
    "        sublink_div = soup.find(\"div\", class_=\"sublink\")\n",
    "        if sublink_div:\n",
    "            raw = sublink_div.get_text(strip=True)\n",
    "            if '•' in raw:\n",
    "                author_candidate = raw.split('•')[0].strip()\n",
    "                if len(author_candidate) > 1:\n",
    "                    author = author_candidate\n",
    "\n",
    "        # Вариант 2: из <p class=\"small\">Ответил <i>Автор</i>\n",
    "        if author == \"—\":\n",
    "            small_block = soup.find(\"p\", class_=\"small\")\n",
    "            if small_block:\n",
    "                match = re.search(r'Ответил\\s+<i>(.+?)</i>', str(small_block))\n",
    "                if match:\n",
    "                    author = match.group(1).strip()\n",
    "\n",
    "        # Вариант 3: автор(ы) в <a> и <i> внутри текста\n",
    "        if author == \"—\":\n",
    "            candidates = soup.select('div[itemprop=\"text\"] a, div[itemprop=\"text\"] i')\n",
    "            authors_found = set()\n",
    "            for tag in candidates:\n",
    "                text_tag = tag.get_text(strip=True)\n",
    "                if text_tag and 3 <= len(text_tag) <= 50:\n",
    "                    authors_found.add(text_tag)\n",
    "            if authors_found:\n",
    "                author = \", \".join(sorted(authors_found))\n",
    "\n",
    "        # Текст статьи с расширенной фильтрацией\n",
    "        text_block = soup.find(\"div\", itemprop=\"text\")\n",
    "        text = \"\"\n",
    "        if text_block:\n",
    "            paragraphs = []\n",
    "            for p in text_block.find_all(\"p\"):\n",
    "                text_p = p.get_text(strip=True)\n",
    "                only_tags = [child for child in p.children if hasattr(child, 'name')]\n",
    "\n",
    "                # Расширенный фильтр: убираем подписи и источники\n",
    "                if (\n",
    "                    (author != \"—\" and author in text_p)\n",
    "                    or text_p.startswith(\"—\")\n",
    "                    or (len(only_tags) == 1 and only_tags[0].name in {\"i\", \"a\", \"b\"})\n",
    "                    or (len(text_p) <= 100 and '.' not in text_p)\n",
    "                    or re.search(r'(источник|по материалам|журнал|сайт|www\\.)', text_p.lower())\n",
    "                ):\n",
    "                    continue\n",
    "\n",
    "                paragraphs.append(text_p)\n",
    "\n",
    "            text = \"\\n\".join(paragraphs)\n",
    "\n",
    "        return {\n",
    "            \"Заголовок\": title,\n",
    "            \"Автор\": author,\n",
    "            \"Текст\": text,\n",
    "            \"Ссылка\": url\n",
    "        }\n",
    "\n",
    "    except Exception as e:\n",
    "        print(f\"❌ Ошибка {url}: {e}\")\n",
    "        return None\n",
    "\n",
    "# Главная функция\n",
    "def main():\n",
    "    all_links = collect_all_question_links()\n",
    "    data = []\n",
    "\n",
    "    for i, url in enumerate(all_links, 1):\n",
    "        print(f\"📄 Парсим новость {i}/{len(all_links)}\")\n",
    "        result = parse_question(url)\n",
    "        if result:\n",
    "            data.append(result)\n",
    "        time.sleep(1.5)\n",
    "\n",
    "    with open(\"детские_вопросы.csv\", \"w\", encoding=\"utf-8\", newline=\"\") as f:\n",
    "        writer = csv.DictWriter(f, fieldnames=[\"Заголовок\", \"Автор\", \"Текст\", \"Ссылка\"])\n",
    "        writer.writeheader()\n",
    "        writer.writerows(data)\n",
    "\n",
    "    print(\"\\n✅ Готово! Сохранено в файл: детские_вопросы.csv\")\n",
    "\n",
    "# Запуск\n",
    "if __name__ == \"__main__\":\n",
    "    main()\n"
   ]
  },
  {
   "cell_type": "code",
   "execution_count": null,
   "metadata": {},
   "outputs": [],
   "source": []
  }
 ],
 "metadata": {
  "colab": {
   "include_colab_link": true,
   "provenance": []
  },
  "kernelspec": {
   "display_name": "Python 3 (ipykernel)",
   "language": "python",
   "name": "python3"
  },
  "language_info": {
   "codemirror_mode": {
    "name": "ipython",
    "version": 3
   },
   "file_extension": ".py",
   "mimetype": "text/x-python",
   "name": "python",
   "nbconvert_exporter": "python",
   "pygments_lexer": "ipython3",
   "version": "3.13.2"
  }
 },
 "nbformat": 4,
 "nbformat_minor": 4
}
