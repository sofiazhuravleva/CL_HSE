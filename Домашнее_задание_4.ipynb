{
  "nbformat": 4,
  "nbformat_minor": 0,
  "metadata": {
    "colab": {
      "provenance": [],
      "include_colab_link": true
    },
    "kernelspec": {
      "name": "python3",
      "display_name": "Python 3"
    },
    "language_info": {
      "name": "python"
    }
  },
  "cells": [
    {
      "cell_type": "markdown",
      "metadata": {
        "id": "view-in-github",
        "colab_type": "text"
      },
      "source": [
        "<a href=\"https://colab.research.google.com/github/sofiazhuravleva/CL_HSE/blob/main/%D0%94%D0%BE%D0%BC%D0%B0%D1%88%D0%BD%D0%B5%D0%B5_%D0%B7%D0%B0%D0%B4%D0%B0%D0%BD%D0%B8%D0%B5_4.ipynb\" target=\"_parent\"><img src=\"https://colab.research.google.com/assets/colab-badge.svg\" alt=\"Open In Colab\"/></a>"
      ]
    },
    {
      "cell_type": "markdown",
      "source": [
        "# Домашнее задание 4."
      ],
      "metadata": {
        "id": "nPRIiy_SDYfu"
      }
    },
    {
      "cell_type": "markdown",
      "source": [
        "## Часть 1. Парсинг телеграм-каналов\n",
        "\n",
        "У вас есть 2 файла на выбор в [этой папке](https://disk.yandex.ru/d/druM43Rd5bdiQg):\n",
        "- Канал Системный Блокъ\n",
        "- Канал Нерусский мир\n",
        "\n",
        "В них сохранена история каналов за 2024 год в html-формате\n",
        "\n",
        "Подготовьте таблицу, в которой будет:\n",
        "- отправитель (у нас это будет канал - но в личных чатах туда попадает никнейм отправителя, как в ДЗ_3)\n",
        "- текст сообщения (его можно немного посчистить (***по желанию***) - например, удалить из него тэги)\n",
        "- дата\n",
        "- (***по желанию***) реакции\n",
        "\n",
        "**Важно!** В Нерусском мире есть небольшие ошибки - посты без автора (можно отловить их и подумать, что с ними делать, или использовать try / except, чтобы их просто проигнорировать)"
      ],
      "metadata": {
        "id": "s53-SY7vDfJ5"
      }
    },
    {
      "cell_type": "markdown",
      "source": [
        "Примерный результат выполнения всех заданий вы можете найти в той же [папке](https://disk.yandex.ru/d/druM43Rd5bdiQg)"
      ],
      "metadata": {
        "id": "0Sjon3P0aBtQ"
      }
    },
    {
      "cell_type": "code",
      "execution_count": 1,
      "metadata": {
        "id": "B6Nw3wczDQVb"
      },
      "outputs": [],
      "source": [
        "import requests\n",
        "from bs4 import BeautifulSoup\n",
        "import pandas as pd\n",
        "import codecs\n",
        "import re"
      ]
    },
    {
      "cell_type": "code",
      "source": [
        "f = codecs.open(\"_НАЗВАНИЕ_.html\", 'r', 'utf-8') # читаем код html из файла\n",
        "telegram = f.read() # записываем его в переменную\n",
        "f.close()\n",
        "\n",
        "soup = BeautifulSoup(telegram)\n",
        "soup"
      ],
      "metadata": {
        "id": "LsERUDYNDhXr"
      },
      "execution_count": null,
      "outputs": []
    },
    {
      "cell_type": "markdown",
      "source": [
        "Советы: можно идти по тегам в супе, а можно использовать регулярные выражения к содержимому тега, оставлю одну из возможных подсказок (разбор тегов супом **предпочтительнее**, но задачу можно также решить любым другим способом)"
      ],
      "metadata": {
        "id": "TeIrDHDVYzp3"
      }
    },
    {
      "cell_type": "code",
      "source": [
        "for i in soup.find_all('div', {'class' : \"body\"}):\n",
        "    who = re.findall(r'_здесь_ваша_регулярка_', str(i))\n",
        "    print(who)"
      ],
      "metadata": {
        "id": "pZSPGXyqZLTE"
      },
      "execution_count": null,
      "outputs": []
    },
    {
      "cell_type": "code",
      "source": [
        "# ваш код ниже\n",
        "\n"
      ],
      "metadata": {
        "id": "XtjB_gzfFPvo"
      },
      "execution_count": null,
      "outputs": []
    },
    {
      "cell_type": "code",
      "source": [],
      "metadata": {
        "id": "DB8X_quaZXZK"
      },
      "execution_count": null,
      "outputs": []
    },
    {
      "cell_type": "code",
      "source": [],
      "metadata": {
        "id": "iJmKFO8kZXW6"
      },
      "execution_count": null,
      "outputs": []
    },
    {
      "cell_type": "markdown",
      "source": [
        "## Часть 2\n",
        "\n",
        "Парсинг сайта, на выбор:\n",
        "- [Детские вопросы](https://elementy.ru/email) в журнале \"Элементы\" (немного легче)\n",
        "- [Рубрика \"Ускользающий мир\"](https://www.nkj.ru/special/mir/) журнала \"Наука и жизнь\""
      ],
      "metadata": {
        "id": "C2CnZWo6LcdH"
      }
    },
    {
      "cell_type": "markdown",
      "source": [
        "Общий алгоритм:\n",
        "- смотрим на 1 и последнюю страницу и с помощью range(от, до+1) генерируем ссылки на страницы\n",
        "- проходим по каждой странице и парсим ссылки на новости (важно собрать нужные и очистить от лишних!). На момент начала задания было 88 Детских вопроса и 213 текстов Ускользающего мира (ближе к дедлайну их может стать немного больше)\n",
        "- переходим к каждой новости и парсим из нее:\n",
        "  - заголовок, автор ответа, текст, ссылку для Детских вопросов\n",
        "  - заголовок, дату, текст и ссылку для Ускользающего мира (***опционально*** - также автора, источник, тэги, но учтите, что они есть не в каждой статье)\n",
        "- сохраняем результаты в датафрейм, не забудьте озаглавить столбцы\n",
        "\n",
        "Поскольку мы парсим реальные сайты, вежливый парсинг с time и задержкой в несколько секунд будет плюсом!"
      ],
      "metadata": {
        "id": "eOYUy-4Sd_V5"
      }
    },
    {
      "cell_type": "code",
      "source": [
        "# ваш код\n"
      ],
      "metadata": {
        "id": "xMitVRmtfbn2"
      },
      "execution_count": null,
      "outputs": []
    },
    {
      "cell_type": "code",
      "source": [],
      "metadata": {
        "id": "miV28VjVfbiM"
      },
      "execution_count": null,
      "outputs": []
    },
    {
      "cell_type": "code",
      "source": [],
      "metadata": {
        "id": "eL38V-fIfbL4"
      },
      "execution_count": null,
      "outputs": []
    },
    {
      "cell_type": "code",
      "source": [],
      "metadata": {
        "id": "aRVOWIq3hlZK"
      },
      "execution_count": null,
      "outputs": []
    }
  ]
}